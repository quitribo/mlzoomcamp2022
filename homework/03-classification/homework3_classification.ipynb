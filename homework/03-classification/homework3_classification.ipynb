{
 "cells": [
  {
   "cell_type": "markdown",
   "metadata": {},
   "source": [
    "# Import Library"
   ]
  },
  {
   "cell_type": "code",
   "execution_count": 234,
   "metadata": {},
   "outputs": [],
   "source": [
    "import pandas as pd\n",
    "import numpy as np\n",
    "\n",
    "import matplotlib.pyplot as plt\n",
    "\n",
    "from sklearn.model_selection import train_test_split\n",
    "from sklearn.metrics import mutual_info_score\n",
    "from sklearn.feature_extraction import DictVectorizer\n",
    "from sklearn.linear_model import LogisticRegression,Ridge"
   ]
  },
  {
   "cell_type": "markdown",
   "metadata": {},
   "source": [
    "# Import Data"
   ]
  },
  {
   "cell_type": "code",
   "execution_count": 187,
   "metadata": {},
   "outputs": [
    {
     "data": {
      "text/html": [
       "<div><div id=9afdcd36-9142-4add-9f75-a09394f5b5df style=\"display:none; background-color:#9D6CFF; color:white; width:200px; height:30px; padding-left:5px; border-radius:4px; flex-direction:row; justify-content:space-around; align-items:center;\" onmouseover=\"this.style.backgroundColor='#BA9BF8'\" onmouseout=\"this.style.backgroundColor='#9D6CFF'\" onclick=\"window.commands?.execute('create-mitosheet-from-dataframe-output');\">See Full Dataframe in Mito</div> <script> if (window.commands.hasCommand('create-mitosheet-from-dataframe-output')) document.getElementById('9afdcd36-9142-4add-9f75-a09394f5b5df').style.display = 'flex' </script> <table border=\"1\" class=\"dataframe\">\n",
       "  <thead>\n",
       "    <tr style=\"text-align: right;\">\n",
       "      <th></th>\n",
       "      <th>longitude</th>\n",
       "      <th>latitude</th>\n",
       "      <th>housing_median_age</th>\n",
       "      <th>total_rooms</th>\n",
       "      <th>total_bedrooms</th>\n",
       "      <th>population</th>\n",
       "      <th>households</th>\n",
       "      <th>median_income</th>\n",
       "      <th>median_house_value</th>\n",
       "      <th>ocean_proximity</th>\n",
       "    </tr>\n",
       "  </thead>\n",
       "  <tbody>\n",
       "    <tr>\n",
       "      <th>0</th>\n",
       "      <td>-122.23</td>\n",
       "      <td>37.88</td>\n",
       "      <td>41.0</td>\n",
       "      <td>880.0</td>\n",
       "      <td>129.0</td>\n",
       "      <td>322.0</td>\n",
       "      <td>126.0</td>\n",
       "      <td>8.3252</td>\n",
       "      <td>452600.0</td>\n",
       "      <td>NEAR BAY</td>\n",
       "    </tr>\n",
       "    <tr>\n",
       "      <th>1</th>\n",
       "      <td>-122.22</td>\n",
       "      <td>37.86</td>\n",
       "      <td>21.0</td>\n",
       "      <td>7099.0</td>\n",
       "      <td>1106.0</td>\n",
       "      <td>2401.0</td>\n",
       "      <td>1138.0</td>\n",
       "      <td>8.3014</td>\n",
       "      <td>358500.0</td>\n",
       "      <td>NEAR BAY</td>\n",
       "    </tr>\n",
       "    <tr>\n",
       "      <th>2</th>\n",
       "      <td>-122.24</td>\n",
       "      <td>37.85</td>\n",
       "      <td>52.0</td>\n",
       "      <td>1467.0</td>\n",
       "      <td>190.0</td>\n",
       "      <td>496.0</td>\n",
       "      <td>177.0</td>\n",
       "      <td>7.2574</td>\n",
       "      <td>352100.0</td>\n",
       "      <td>NEAR BAY</td>\n",
       "    </tr>\n",
       "    <tr>\n",
       "      <th>3</th>\n",
       "      <td>-122.25</td>\n",
       "      <td>37.85</td>\n",
       "      <td>52.0</td>\n",
       "      <td>1274.0</td>\n",
       "      <td>235.0</td>\n",
       "      <td>558.0</td>\n",
       "      <td>219.0</td>\n",
       "      <td>5.6431</td>\n",
       "      <td>341300.0</td>\n",
       "      <td>NEAR BAY</td>\n",
       "    </tr>\n",
       "    <tr>\n",
       "      <th>4</th>\n",
       "      <td>-122.25</td>\n",
       "      <td>37.85</td>\n",
       "      <td>52.0</td>\n",
       "      <td>1627.0</td>\n",
       "      <td>280.0</td>\n",
       "      <td>565.0</td>\n",
       "      <td>259.0</td>\n",
       "      <td>3.8462</td>\n",
       "      <td>342200.0</td>\n",
       "      <td>NEAR BAY</td>\n",
       "    </tr>\n",
       "  </tbody>\n",
       "</table></div>"
      ],
      "text/plain": [
       "   longitude  latitude  housing_median_age  total_rooms  total_bedrooms  \\\n",
       "0    -122.23     37.88                41.0        880.0           129.0   \n",
       "1    -122.22     37.86                21.0       7099.0          1106.0   \n",
       "2    -122.24     37.85                52.0       1467.0           190.0   \n",
       "3    -122.25     37.85                52.0       1274.0           235.0   \n",
       "4    -122.25     37.85                52.0       1627.0           280.0   \n",
       "\n",
       "   population  households  median_income  median_house_value ocean_proximity  \n",
       "0       322.0       126.0         8.3252            452600.0        NEAR BAY  \n",
       "1      2401.0      1138.0         8.3014            358500.0        NEAR BAY  \n",
       "2       496.0       177.0         7.2574            352100.0        NEAR BAY  \n",
       "3       558.0       219.0         5.6431            341300.0        NEAR BAY  \n",
       "4       565.0       259.0         3.8462            342200.0        NEAR BAY  "
      ]
     },
     "execution_count": 187,
     "metadata": {},
     "output_type": "execute_result"
    }
   ],
   "source": [
    "df = pd.read_csv('housing.csv')\n",
    "df.head()"
   ]
  },
  {
   "cell_type": "markdown",
   "metadata": {},
   "source": [
    "# Rename"
   ]
  },
  {
   "cell_type": "code",
   "execution_count": 188,
   "metadata": {},
   "outputs": [],
   "source": [
    "df.columns = df.columns.str.lower().str.replace(' ', '_')\n",
    "\n",
    "categorical_columns = list(df.dtypes[df.dtypes == 'object'].index)\n",
    "\n",
    "for c in categorical_columns:\n",
    "    df[c] = df[c].str.lower().str.replace(' ', '_')"
   ]
  },
  {
   "cell_type": "code",
   "execution_count": 189,
   "metadata": {},
   "outputs": [
    {
     "data": {
      "text/html": [
       "<div><div id=3990d753-43b5-491e-a81c-60cb1f14b9f6 style=\"display:none; background-color:#9D6CFF; color:white; width:200px; height:30px; padding-left:5px; border-radius:4px; flex-direction:row; justify-content:space-around; align-items:center;\" onmouseover=\"this.style.backgroundColor='#BA9BF8'\" onmouseout=\"this.style.backgroundColor='#9D6CFF'\" onclick=\"window.commands?.execute('create-mitosheet-from-dataframe-output');\">See Full Dataframe in Mito</div> <script> if (window.commands.hasCommand('create-mitosheet-from-dataframe-output')) document.getElementById('3990d753-43b5-491e-a81c-60cb1f14b9f6').style.display = 'flex' </script> <table border=\"1\" class=\"dataframe\">\n",
       "  <thead>\n",
       "    <tr style=\"text-align: right;\">\n",
       "      <th></th>\n",
       "      <th>0</th>\n",
       "      <th>1</th>\n",
       "      <th>2</th>\n",
       "      <th>3</th>\n",
       "      <th>4</th>\n",
       "    </tr>\n",
       "  </thead>\n",
       "  <tbody>\n",
       "    <tr>\n",
       "      <th>longitude</th>\n",
       "      <td>-122.23</td>\n",
       "      <td>-122.22</td>\n",
       "      <td>-122.24</td>\n",
       "      <td>-122.25</td>\n",
       "      <td>-122.25</td>\n",
       "    </tr>\n",
       "    <tr>\n",
       "      <th>latitude</th>\n",
       "      <td>37.88</td>\n",
       "      <td>37.86</td>\n",
       "      <td>37.85</td>\n",
       "      <td>37.85</td>\n",
       "      <td>37.85</td>\n",
       "    </tr>\n",
       "    <tr>\n",
       "      <th>housing_median_age</th>\n",
       "      <td>41.0</td>\n",
       "      <td>21.0</td>\n",
       "      <td>52.0</td>\n",
       "      <td>52.0</td>\n",
       "      <td>52.0</td>\n",
       "    </tr>\n",
       "    <tr>\n",
       "      <th>total_rooms</th>\n",
       "      <td>880.0</td>\n",
       "      <td>7099.0</td>\n",
       "      <td>1467.0</td>\n",
       "      <td>1274.0</td>\n",
       "      <td>1627.0</td>\n",
       "    </tr>\n",
       "    <tr>\n",
       "      <th>total_bedrooms</th>\n",
       "      <td>129.0</td>\n",
       "      <td>1106.0</td>\n",
       "      <td>190.0</td>\n",
       "      <td>235.0</td>\n",
       "      <td>280.0</td>\n",
       "    </tr>\n",
       "    <tr>\n",
       "      <th>population</th>\n",
       "      <td>322.0</td>\n",
       "      <td>2401.0</td>\n",
       "      <td>496.0</td>\n",
       "      <td>558.0</td>\n",
       "      <td>565.0</td>\n",
       "    </tr>\n",
       "    <tr>\n",
       "      <th>households</th>\n",
       "      <td>126.0</td>\n",
       "      <td>1138.0</td>\n",
       "      <td>177.0</td>\n",
       "      <td>219.0</td>\n",
       "      <td>259.0</td>\n",
       "    </tr>\n",
       "    <tr>\n",
       "      <th>median_income</th>\n",
       "      <td>8.3252</td>\n",
       "      <td>8.3014</td>\n",
       "      <td>7.2574</td>\n",
       "      <td>5.6431</td>\n",
       "      <td>3.8462</td>\n",
       "    </tr>\n",
       "    <tr>\n",
       "      <th>median_house_value</th>\n",
       "      <td>452600.0</td>\n",
       "      <td>358500.0</td>\n",
       "      <td>352100.0</td>\n",
       "      <td>341300.0</td>\n",
       "      <td>342200.0</td>\n",
       "    </tr>\n",
       "    <tr>\n",
       "      <th>ocean_proximity</th>\n",
       "      <td>near_bay</td>\n",
       "      <td>near_bay</td>\n",
       "      <td>near_bay</td>\n",
       "      <td>near_bay</td>\n",
       "      <td>near_bay</td>\n",
       "    </tr>\n",
       "  </tbody>\n",
       "</table></div>"
      ],
      "text/plain": [
       "                           0         1         2         3         4\n",
       "longitude            -122.23   -122.22   -122.24   -122.25   -122.25\n",
       "latitude               37.88     37.86     37.85     37.85     37.85\n",
       "housing_median_age      41.0      21.0      52.0      52.0      52.0\n",
       "total_rooms            880.0    7099.0    1467.0    1274.0    1627.0\n",
       "total_bedrooms         129.0    1106.0     190.0     235.0     280.0\n",
       "population             322.0    2401.0     496.0     558.0     565.0\n",
       "households             126.0    1138.0     177.0     219.0     259.0\n",
       "median_income         8.3252    8.3014    7.2574    5.6431    3.8462\n",
       "median_house_value  452600.0  358500.0  352100.0  341300.0  342200.0\n",
       "ocean_proximity     near_bay  near_bay  near_bay  near_bay  near_bay"
      ]
     },
     "execution_count": 189,
     "metadata": {},
     "output_type": "execute_result"
    }
   ],
   "source": [
    "df.head().T"
   ]
  },
  {
   "cell_type": "code",
   "execution_count": 190,
   "metadata": {},
   "outputs": [
    {
     "data": {
      "text/plain": [
       "longitude               0\n",
       "latitude                0\n",
       "housing_median_age      0\n",
       "total_rooms             0\n",
       "total_bedrooms        207\n",
       "population              0\n",
       "households              0\n",
       "median_income           0\n",
       "median_house_value      0\n",
       "ocean_proximity         0\n",
       "dtype: int64"
      ]
     },
     "execution_count": 190,
     "metadata": {},
     "output_type": "execute_result"
    }
   ],
   "source": [
    "df.isna().sum()"
   ]
  },
  {
   "cell_type": "markdown",
   "metadata": {},
   "source": [
    "# Fillna"
   ]
  },
  {
   "cell_type": "code",
   "execution_count": 191,
   "metadata": {},
   "outputs": [
    {
     "data": {
      "text/plain": [
       "0"
      ]
     },
     "execution_count": 191,
     "metadata": {},
     "output_type": "execute_result"
    }
   ],
   "source": [
    "df.total_bedrooms = pd.to_numeric(df.total_bedrooms, errors='coerce')            # sum values are null and be treated as string\n",
    "df.total_bedrooms.fillna(0, inplace=True)\n",
    "df.total_bedrooms.isna().sum()"
   ]
  },
  {
   "cell_type": "markdown",
   "metadata": {},
   "source": [
    "# Create columns"
   ]
  },
  {
   "cell_type": "code",
   "execution_count": 192,
   "metadata": {},
   "outputs": [
    {
     "data": {
      "text/html": [
       "<div><div id=37011ed0-8a8b-4db5-8b52-b2aac23e1cea style=\"display:none; background-color:#9D6CFF; color:white; width:200px; height:30px; padding-left:5px; border-radius:4px; flex-direction:row; justify-content:space-around; align-items:center;\" onmouseover=\"this.style.backgroundColor='#BA9BF8'\" onmouseout=\"this.style.backgroundColor='#9D6CFF'\" onclick=\"window.commands?.execute('create-mitosheet-from-dataframe-output');\">See Full Dataframe in Mito</div> <script> if (window.commands.hasCommand('create-mitosheet-from-dataframe-output')) document.getElementById('37011ed0-8a8b-4db5-8b52-b2aac23e1cea').style.display = 'flex' </script> <table border=\"1\" class=\"dataframe\">\n",
       "  <thead>\n",
       "    <tr style=\"text-align: right;\">\n",
       "      <th></th>\n",
       "      <th>0</th>\n",
       "      <th>1</th>\n",
       "      <th>2</th>\n",
       "      <th>3</th>\n",
       "      <th>4</th>\n",
       "    </tr>\n",
       "  </thead>\n",
       "  <tbody>\n",
       "    <tr>\n",
       "      <th>longitude</th>\n",
       "      <td>-122.23</td>\n",
       "      <td>-122.22</td>\n",
       "      <td>-122.24</td>\n",
       "      <td>-122.25</td>\n",
       "      <td>-122.25</td>\n",
       "    </tr>\n",
       "    <tr>\n",
       "      <th>latitude</th>\n",
       "      <td>37.88</td>\n",
       "      <td>37.86</td>\n",
       "      <td>37.85</td>\n",
       "      <td>37.85</td>\n",
       "      <td>37.85</td>\n",
       "    </tr>\n",
       "    <tr>\n",
       "      <th>housing_median_age</th>\n",
       "      <td>41.0</td>\n",
       "      <td>21.0</td>\n",
       "      <td>52.0</td>\n",
       "      <td>52.0</td>\n",
       "      <td>52.0</td>\n",
       "    </tr>\n",
       "    <tr>\n",
       "      <th>total_rooms</th>\n",
       "      <td>880.0</td>\n",
       "      <td>7099.0</td>\n",
       "      <td>1467.0</td>\n",
       "      <td>1274.0</td>\n",
       "      <td>1627.0</td>\n",
       "    </tr>\n",
       "    <tr>\n",
       "      <th>total_bedrooms</th>\n",
       "      <td>129.0</td>\n",
       "      <td>1106.0</td>\n",
       "      <td>190.0</td>\n",
       "      <td>235.0</td>\n",
       "      <td>280.0</td>\n",
       "    </tr>\n",
       "    <tr>\n",
       "      <th>...</th>\n",
       "      <td>...</td>\n",
       "      <td>...</td>\n",
       "      <td>...</td>\n",
       "      <td>...</td>\n",
       "      <td>...</td>\n",
       "    </tr>\n",
       "    <tr>\n",
       "      <th>median_house_value</th>\n",
       "      <td>452600.0</td>\n",
       "      <td>358500.0</td>\n",
       "      <td>352100.0</td>\n",
       "      <td>341300.0</td>\n",
       "      <td>342200.0</td>\n",
       "    </tr>\n",
       "    <tr>\n",
       "      <th>ocean_proximity</th>\n",
       "      <td>near_bay</td>\n",
       "      <td>near_bay</td>\n",
       "      <td>near_bay</td>\n",
       "      <td>near_bay</td>\n",
       "      <td>near_bay</td>\n",
       "    </tr>\n",
       "    <tr>\n",
       "      <th>rooms_per_household</th>\n",
       "      <td>6.984127</td>\n",
       "      <td>6.238137</td>\n",
       "      <td>8.288136</td>\n",
       "      <td>5.817352</td>\n",
       "      <td>6.281853</td>\n",
       "    </tr>\n",
       "    <tr>\n",
       "      <th>bedrooms_per_room</th>\n",
       "      <td>1.02381</td>\n",
       "      <td>0.97188</td>\n",
       "      <td>1.073446</td>\n",
       "      <td>1.073059</td>\n",
       "      <td>1.081081</td>\n",
       "    </tr>\n",
       "    <tr>\n",
       "      <th>population_per_household</th>\n",
       "      <td>2.555556</td>\n",
       "      <td>2.109842</td>\n",
       "      <td>2.80226</td>\n",
       "      <td>2.547945</td>\n",
       "      <td>2.181467</td>\n",
       "    </tr>\n",
       "  </tbody>\n",
       "</table></div>"
      ],
      "text/plain": [
       "                                 0         1         2         3         4\n",
       "longitude                  -122.23   -122.22   -122.24   -122.25   -122.25\n",
       "latitude                     37.88     37.86     37.85     37.85     37.85\n",
       "housing_median_age            41.0      21.0      52.0      52.0      52.0\n",
       "total_rooms                  880.0    7099.0    1467.0    1274.0    1627.0\n",
       "total_bedrooms               129.0    1106.0     190.0     235.0     280.0\n",
       "population                   322.0    2401.0     496.0     558.0     565.0\n",
       "households                   126.0    1138.0     177.0     219.0     259.0\n",
       "median_income               8.3252    8.3014    7.2574    5.6431    3.8462\n",
       "median_house_value        452600.0  358500.0  352100.0  341300.0  342200.0\n",
       "ocean_proximity           near_bay  near_bay  near_bay  near_bay  near_bay\n",
       "rooms_per_household       6.984127  6.238137  8.288136  5.817352  6.281853\n",
       "bedrooms_per_room          1.02381   0.97188  1.073446  1.073059  1.081081\n",
       "population_per_household  2.555556  2.109842   2.80226  2.547945  2.181467"
      ]
     },
     "execution_count": 192,
     "metadata": {},
     "output_type": "execute_result"
    }
   ],
   "source": [
    "df['rooms_per_household'] = df['total_rooms']/df['households']\n",
    "df['bedrooms_per_room'] = df['total_bedrooms']/df['households']\n",
    "df['population_per_household'] = df['population']/df['households']\n",
    "df.head().T"
   ]
  },
  {
   "cell_type": "markdown",
   "metadata": {},
   "source": [
    "# Question 1"
   ]
  },
  {
   "cell_type": "code",
   "execution_count": 193,
   "metadata": {},
   "outputs": [
    {
     "data": {
      "text/plain": [
       "0    <1h_ocean\n",
       "Name: ocean_proximity, dtype: object"
      ]
     },
     "execution_count": 193,
     "metadata": {},
     "output_type": "execute_result"
    }
   ],
   "source": [
    "# What is the most frequent observation (mode) for the column ocean_proximity?\n",
    "\n",
    "df.ocean_proximity.mode()"
   ]
  },
  {
   "cell_type": "markdown",
   "metadata": {},
   "source": [
    "# Convert median_house_price to binary"
   ]
  },
  {
   "cell_type": "code",
   "execution_count": 194,
   "metadata": {},
   "outputs": [
    {
     "data": {
      "text/plain": [
       "206855.81690891474"
      ]
     },
     "execution_count": 194,
     "metadata": {},
     "output_type": "execute_result"
    }
   ],
   "source": [
    "mean_house = df.median_house_value.mean()\n",
    "mean_house"
   ]
  },
  {
   "cell_type": "code",
   "execution_count": 195,
   "metadata": {},
   "outputs": [],
   "source": [
    "df['above_average'] = np.where(df['median_house_value'] > mean_house,1,0)"
   ]
  },
  {
   "cell_type": "code",
   "execution_count": 196,
   "metadata": {},
   "outputs": [
    {
     "data": {
      "text/html": [
       "<div><div id=21e12ce7-53ef-4f09-b3a0-f96fdff6643f style=\"display:none; background-color:#9D6CFF; color:white; width:200px; height:30px; padding-left:5px; border-radius:4px; flex-direction:row; justify-content:space-around; align-items:center;\" onmouseover=\"this.style.backgroundColor='#BA9BF8'\" onmouseout=\"this.style.backgroundColor='#9D6CFF'\" onclick=\"window.commands?.execute('create-mitosheet-from-dataframe-output');\">See Full Dataframe in Mito</div> <script> if (window.commands.hasCommand('create-mitosheet-from-dataframe-output')) document.getElementById('21e12ce7-53ef-4f09-b3a0-f96fdff6643f').style.display = 'flex' </script> <table border=\"1\" class=\"dataframe\">\n",
       "  <thead>\n",
       "    <tr style=\"text-align: right;\">\n",
       "      <th></th>\n",
       "      <th>longitude</th>\n",
       "      <th>latitude</th>\n",
       "      <th>housing_median_age</th>\n",
       "      <th>total_rooms</th>\n",
       "      <th>total_bedrooms</th>\n",
       "      <th>population</th>\n",
       "      <th>households</th>\n",
       "      <th>median_income</th>\n",
       "      <th>median_house_value</th>\n",
       "      <th>ocean_proximity</th>\n",
       "      <th>rooms_per_household</th>\n",
       "      <th>bedrooms_per_room</th>\n",
       "      <th>population_per_household</th>\n",
       "      <th>above_average</th>\n",
       "    </tr>\n",
       "  </thead>\n",
       "  <tbody>\n",
       "    <tr>\n",
       "      <th>0</th>\n",
       "      <td>-122.23</td>\n",
       "      <td>37.88</td>\n",
       "      <td>41.0</td>\n",
       "      <td>880.0</td>\n",
       "      <td>129.0</td>\n",
       "      <td>322.0</td>\n",
       "      <td>126.0</td>\n",
       "      <td>8.3252</td>\n",
       "      <td>452600.0</td>\n",
       "      <td>near_bay</td>\n",
       "      <td>6.984127</td>\n",
       "      <td>1.023810</td>\n",
       "      <td>2.555556</td>\n",
       "      <td>1</td>\n",
       "    </tr>\n",
       "    <tr>\n",
       "      <th>1</th>\n",
       "      <td>-122.22</td>\n",
       "      <td>37.86</td>\n",
       "      <td>21.0</td>\n",
       "      <td>7099.0</td>\n",
       "      <td>1106.0</td>\n",
       "      <td>2401.0</td>\n",
       "      <td>1138.0</td>\n",
       "      <td>8.3014</td>\n",
       "      <td>358500.0</td>\n",
       "      <td>near_bay</td>\n",
       "      <td>6.238137</td>\n",
       "      <td>0.971880</td>\n",
       "      <td>2.109842</td>\n",
       "      <td>1</td>\n",
       "    </tr>\n",
       "    <tr>\n",
       "      <th>2</th>\n",
       "      <td>-122.24</td>\n",
       "      <td>37.85</td>\n",
       "      <td>52.0</td>\n",
       "      <td>1467.0</td>\n",
       "      <td>190.0</td>\n",
       "      <td>496.0</td>\n",
       "      <td>177.0</td>\n",
       "      <td>7.2574</td>\n",
       "      <td>352100.0</td>\n",
       "      <td>near_bay</td>\n",
       "      <td>8.288136</td>\n",
       "      <td>1.073446</td>\n",
       "      <td>2.802260</td>\n",
       "      <td>1</td>\n",
       "    </tr>\n",
       "    <tr>\n",
       "      <th>3</th>\n",
       "      <td>-122.25</td>\n",
       "      <td>37.85</td>\n",
       "      <td>52.0</td>\n",
       "      <td>1274.0</td>\n",
       "      <td>235.0</td>\n",
       "      <td>558.0</td>\n",
       "      <td>219.0</td>\n",
       "      <td>5.6431</td>\n",
       "      <td>341300.0</td>\n",
       "      <td>near_bay</td>\n",
       "      <td>5.817352</td>\n",
       "      <td>1.073059</td>\n",
       "      <td>2.547945</td>\n",
       "      <td>1</td>\n",
       "    </tr>\n",
       "    <tr>\n",
       "      <th>4</th>\n",
       "      <td>-122.25</td>\n",
       "      <td>37.85</td>\n",
       "      <td>52.0</td>\n",
       "      <td>1627.0</td>\n",
       "      <td>280.0</td>\n",
       "      <td>565.0</td>\n",
       "      <td>259.0</td>\n",
       "      <td>3.8462</td>\n",
       "      <td>342200.0</td>\n",
       "      <td>near_bay</td>\n",
       "      <td>6.281853</td>\n",
       "      <td>1.081081</td>\n",
       "      <td>2.181467</td>\n",
       "      <td>1</td>\n",
       "    </tr>\n",
       "  </tbody>\n",
       "</table></div>"
      ],
      "text/plain": [
       "   longitude  latitude  housing_median_age  total_rooms  total_bedrooms  \\\n",
       "0    -122.23     37.88                41.0        880.0           129.0   \n",
       "1    -122.22     37.86                21.0       7099.0          1106.0   \n",
       "2    -122.24     37.85                52.0       1467.0           190.0   \n",
       "3    -122.25     37.85                52.0       1274.0           235.0   \n",
       "4    -122.25     37.85                52.0       1627.0           280.0   \n",
       "\n",
       "   population  households  median_income  median_house_value ocean_proximity  \\\n",
       "0       322.0       126.0         8.3252            452600.0        near_bay   \n",
       "1      2401.0      1138.0         8.3014            358500.0        near_bay   \n",
       "2       496.0       177.0         7.2574            352100.0        near_bay   \n",
       "3       558.0       219.0         5.6431            341300.0        near_bay   \n",
       "4       565.0       259.0         3.8462            342200.0        near_bay   \n",
       "\n",
       "   rooms_per_household  bedrooms_per_room  population_per_household  \\\n",
       "0             6.984127           1.023810                  2.555556   \n",
       "1             6.238137           0.971880                  2.109842   \n",
       "2             8.288136           1.073446                  2.802260   \n",
       "3             5.817352           1.073059                  2.547945   \n",
       "4             6.281853           1.081081                  2.181467   \n",
       "\n",
       "   above_average  \n",
       "0              1  \n",
       "1              1  \n",
       "2              1  \n",
       "3              1  \n",
       "4              1  "
      ]
     },
     "execution_count": 196,
     "metadata": {},
     "output_type": "execute_result"
    }
   ],
   "source": [
    "df.head()"
   ]
  },
  {
   "cell_type": "markdown",
   "metadata": {},
   "source": [
    "# Split the data"
   ]
  },
  {
   "cell_type": "code",
   "execution_count": 197,
   "metadata": {},
   "outputs": [],
   "source": [
    "# Split your data in train/val/test sets, with 60%/20%/20% distribution.\n",
    "# Use Scikit-Learn for that (the train_test_split function) and set the seed to 42.\n",
    "\n",
    "df_full_train, df_test = train_test_split(df,test_size=0.2, random_state=42)\n",
    "df_train, df_val = train_test_split(df_full_train,test_size=0.25, random_state=42)"
   ]
  },
  {
   "cell_type": "code",
   "execution_count": 198,
   "metadata": {},
   "outputs": [
    {
     "data": {
      "text/plain": [
       "(12384, 4128, 4128)"
      ]
     },
     "execution_count": 198,
     "metadata": {},
     "output_type": "execute_result"
    }
   ],
   "source": [
    "len(df_train), len(df_val), len(df_test)"
   ]
  },
  {
   "cell_type": "code",
   "execution_count": 199,
   "metadata": {},
   "outputs": [],
   "source": [
    "# remove shuffle index for nicer view\n",
    "df_train = df_train.reset_index(drop=True)\n",
    "df_val = df_val.reset_index(drop=True)\n",
    "df_test = df_test.reset_index(drop=True)"
   ]
  },
  {
   "cell_type": "code",
   "execution_count": 200,
   "metadata": {},
   "outputs": [
    {
     "data": {
      "text/html": [
       "<div><div id=193ba715-0d04-49de-b455-6ff29abd389b style=\"display:none; background-color:#9D6CFF; color:white; width:200px; height:30px; padding-left:5px; border-radius:4px; flex-direction:row; justify-content:space-around; align-items:center;\" onmouseover=\"this.style.backgroundColor='#BA9BF8'\" onmouseout=\"this.style.backgroundColor='#9D6CFF'\" onclick=\"window.commands?.execute('create-mitosheet-from-dataframe-output');\">See Full Dataframe in Mito</div> <script> if (window.commands.hasCommand('create-mitosheet-from-dataframe-output')) document.getElementById('193ba715-0d04-49de-b455-6ff29abd389b').style.display = 'flex' </script> <table border=\"1\" class=\"dataframe\">\n",
       "  <thead>\n",
       "    <tr style=\"text-align: right;\">\n",
       "      <th></th>\n",
       "      <th>longitude</th>\n",
       "      <th>latitude</th>\n",
       "      <th>housing_median_age</th>\n",
       "      <th>total_rooms</th>\n",
       "      <th>total_bedrooms</th>\n",
       "      <th>population</th>\n",
       "      <th>households</th>\n",
       "      <th>median_income</th>\n",
       "      <th>ocean_proximity</th>\n",
       "      <th>rooms_per_household</th>\n",
       "      <th>bedrooms_per_room</th>\n",
       "      <th>population_per_household</th>\n",
       "    </tr>\n",
       "  </thead>\n",
       "  <tbody>\n",
       "    <tr>\n",
       "      <th>0</th>\n",
       "      <td>-119.67</td>\n",
       "      <td>34.43</td>\n",
       "      <td>39.0</td>\n",
       "      <td>1467.0</td>\n",
       "      <td>381.0</td>\n",
       "      <td>1404.0</td>\n",
       "      <td>374.0</td>\n",
       "      <td>2.3681</td>\n",
       "      <td>&lt;1h_ocean</td>\n",
       "      <td>3.922460</td>\n",
       "      <td>1.018717</td>\n",
       "      <td>3.754011</td>\n",
       "    </tr>\n",
       "    <tr>\n",
       "      <th>1</th>\n",
       "      <td>-118.32</td>\n",
       "      <td>33.74</td>\n",
       "      <td>24.0</td>\n",
       "      <td>6097.0</td>\n",
       "      <td>794.0</td>\n",
       "      <td>2248.0</td>\n",
       "      <td>806.0</td>\n",
       "      <td>10.1357</td>\n",
       "      <td>near_ocean</td>\n",
       "      <td>7.564516</td>\n",
       "      <td>0.985112</td>\n",
       "      <td>2.789082</td>\n",
       "    </tr>\n",
       "    <tr>\n",
       "      <th>2</th>\n",
       "      <td>-121.62</td>\n",
       "      <td>39.13</td>\n",
       "      <td>41.0</td>\n",
       "      <td>1317.0</td>\n",
       "      <td>309.0</td>\n",
       "      <td>856.0</td>\n",
       "      <td>337.0</td>\n",
       "      <td>1.6719</td>\n",
       "      <td>inland</td>\n",
       "      <td>3.908012</td>\n",
       "      <td>0.916914</td>\n",
       "      <td>2.540059</td>\n",
       "    </tr>\n",
       "    <tr>\n",
       "      <th>3</th>\n",
       "      <td>-118.63</td>\n",
       "      <td>34.24</td>\n",
       "      <td>9.0</td>\n",
       "      <td>4759.0</td>\n",
       "      <td>924.0</td>\n",
       "      <td>1884.0</td>\n",
       "      <td>915.0</td>\n",
       "      <td>4.8333</td>\n",
       "      <td>&lt;1h_ocean</td>\n",
       "      <td>5.201093</td>\n",
       "      <td>1.009836</td>\n",
       "      <td>2.059016</td>\n",
       "    </tr>\n",
       "    <tr>\n",
       "      <th>4</th>\n",
       "      <td>-122.30</td>\n",
       "      <td>37.52</td>\n",
       "      <td>38.0</td>\n",
       "      <td>2769.0</td>\n",
       "      <td>387.0</td>\n",
       "      <td>994.0</td>\n",
       "      <td>395.0</td>\n",
       "      <td>5.5902</td>\n",
       "      <td>near_ocean</td>\n",
       "      <td>7.010127</td>\n",
       "      <td>0.979747</td>\n",
       "      <td>2.516456</td>\n",
       "    </tr>\n",
       "    <tr>\n",
       "      <th>...</th>\n",
       "      <td>...</td>\n",
       "      <td>...</td>\n",
       "      <td>...</td>\n",
       "      <td>...</td>\n",
       "      <td>...</td>\n",
       "      <td>...</td>\n",
       "      <td>...</td>\n",
       "      <td>...</td>\n",
       "      <td>...</td>\n",
       "      <td>...</td>\n",
       "      <td>...</td>\n",
       "      <td>...</td>\n",
       "    </tr>\n",
       "    <tr>\n",
       "      <th>12379</th>\n",
       "      <td>-118.29</td>\n",
       "      <td>33.79</td>\n",
       "      <td>16.0</td>\n",
       "      <td>1867.0</td>\n",
       "      <td>571.0</td>\n",
       "      <td>951.0</td>\n",
       "      <td>498.0</td>\n",
       "      <td>3.3427</td>\n",
       "      <td>&lt;1h_ocean</td>\n",
       "      <td>3.748996</td>\n",
       "      <td>1.146586</td>\n",
       "      <td>1.909639</td>\n",
       "    </tr>\n",
       "    <tr>\n",
       "      <th>12380</th>\n",
       "      <td>-121.34</td>\n",
       "      <td>38.04</td>\n",
       "      <td>16.0</td>\n",
       "      <td>3295.0</td>\n",
       "      <td>565.0</td>\n",
       "      <td>2279.0</td>\n",
       "      <td>576.0</td>\n",
       "      <td>3.6083</td>\n",
       "      <td>inland</td>\n",
       "      <td>5.720486</td>\n",
       "      <td>0.980903</td>\n",
       "      <td>3.956597</td>\n",
       "    </tr>\n",
       "    <tr>\n",
       "      <th>12381</th>\n",
       "      <td>-116.99</td>\n",
       "      <td>32.74</td>\n",
       "      <td>18.0</td>\n",
       "      <td>3341.0</td>\n",
       "      <td>611.0</td>\n",
       "      <td>1952.0</td>\n",
       "      <td>602.0</td>\n",
       "      <td>3.9844</td>\n",
       "      <td>&lt;1h_ocean</td>\n",
       "      <td>5.549834</td>\n",
       "      <td>1.014950</td>\n",
       "      <td>3.242525</td>\n",
       "    </tr>\n",
       "    <tr>\n",
       "      <th>12382</th>\n",
       "      <td>-117.87</td>\n",
       "      <td>33.84</td>\n",
       "      <td>16.0</td>\n",
       "      <td>1545.0</td>\n",
       "      <td>354.0</td>\n",
       "      <td>730.0</td>\n",
       "      <td>350.0</td>\n",
       "      <td>4.5112</td>\n",
       "      <td>&lt;1h_ocean</td>\n",
       "      <td>4.414286</td>\n",
       "      <td>1.011429</td>\n",
       "      <td>2.085714</td>\n",
       "    </tr>\n",
       "    <tr>\n",
       "      <th>12383</th>\n",
       "      <td>-118.32</td>\n",
       "      <td>33.91</td>\n",
       "      <td>35.0</td>\n",
       "      <td>940.0</td>\n",
       "      <td>197.0</td>\n",
       "      <td>640.0</td>\n",
       "      <td>215.0</td>\n",
       "      <td>4.2000</td>\n",
       "      <td>&lt;1h_ocean</td>\n",
       "      <td>4.372093</td>\n",
       "      <td>0.916279</td>\n",
       "      <td>2.976744</td>\n",
       "    </tr>\n",
       "  </tbody>\n",
       "</table></div>"
      ],
      "text/plain": [
       "       longitude  latitude  housing_median_age  total_rooms  total_bedrooms  \\\n",
       "0        -119.67     34.43                39.0       1467.0           381.0   \n",
       "1        -118.32     33.74                24.0       6097.0           794.0   \n",
       "2        -121.62     39.13                41.0       1317.0           309.0   \n",
       "3        -118.63     34.24                 9.0       4759.0           924.0   \n",
       "4        -122.30     37.52                38.0       2769.0           387.0   \n",
       "...          ...       ...                 ...          ...             ...   \n",
       "12379    -118.29     33.79                16.0       1867.0           571.0   \n",
       "12380    -121.34     38.04                16.0       3295.0           565.0   \n",
       "12381    -116.99     32.74                18.0       3341.0           611.0   \n",
       "12382    -117.87     33.84                16.0       1545.0           354.0   \n",
       "12383    -118.32     33.91                35.0        940.0           197.0   \n",
       "\n",
       "       population  households  median_income ocean_proximity  \\\n",
       "0          1404.0       374.0         2.3681       <1h_ocean   \n",
       "1          2248.0       806.0        10.1357      near_ocean   \n",
       "2           856.0       337.0         1.6719          inland   \n",
       "3          1884.0       915.0         4.8333       <1h_ocean   \n",
       "4           994.0       395.0         5.5902      near_ocean   \n",
       "...           ...         ...            ...             ...   \n",
       "12379       951.0       498.0         3.3427       <1h_ocean   \n",
       "12380      2279.0       576.0         3.6083          inland   \n",
       "12381      1952.0       602.0         3.9844       <1h_ocean   \n",
       "12382       730.0       350.0         4.5112       <1h_ocean   \n",
       "12383       640.0       215.0         4.2000       <1h_ocean   \n",
       "\n",
       "       rooms_per_household  bedrooms_per_room  population_per_household  \n",
       "0                 3.922460           1.018717                  3.754011  \n",
       "1                 7.564516           0.985112                  2.789082  \n",
       "2                 3.908012           0.916914                  2.540059  \n",
       "3                 5.201093           1.009836                  2.059016  \n",
       "4                 7.010127           0.979747                  2.516456  \n",
       "...                    ...                ...                       ...  \n",
       "12379             3.748996           1.146586                  1.909639  \n",
       "12380             5.720486           0.980903                  3.956597  \n",
       "12381             5.549834           1.014950                  3.242525  \n",
       "12382             4.414286           1.011429                  2.085714  \n",
       "12383             4.372093           0.916279                  2.976744  \n",
       "\n",
       "[12384 rows x 12 columns]"
      ]
     },
     "execution_count": 200,
     "metadata": {},
     "output_type": "execute_result"
    }
   ],
   "source": [
    "y_train = df_train.above_average.values\n",
    "y_val = df_val.above_average.values\n",
    "y_test = df_test.above_average.values\n",
    "\n",
    "del df_train['above_average']\n",
    "del df_val['above_average']\n",
    "del df_test['above_average']\n",
    "del df_train['median_house_value']\n",
    "del df_val['median_house_value']\n",
    "del df_test['median_house_value']\n",
    "\n",
    "\n",
    "df_train"
   ]
  },
  {
   "cell_type": "markdown",
   "metadata": {},
   "source": [
    "# Question 2"
   ]
  },
  {
   "cell_type": "code",
   "execution_count": 201,
   "metadata": {},
   "outputs": [
    {
     "data": {
      "text/plain": [
       "longitude                   0\n",
       "latitude                    0\n",
       "housing_median_age          0\n",
       "total_rooms                 0\n",
       "total_bedrooms              0\n",
       "population                  0\n",
       "households                  0\n",
       "median_income               0\n",
       "median_house_value          0\n",
       "ocean_proximity             0\n",
       "rooms_per_household         0\n",
       "bedrooms_per_room           0\n",
       "population_per_household    0\n",
       "above_average               0\n",
       "dtype: int64"
      ]
     },
     "execution_count": 201,
     "metadata": {},
     "output_type": "execute_result"
    }
   ],
   "source": [
    "df_full_train = df_full_train.reset_index(drop=True)\n",
    "df_full_train.isnull().sum()"
   ]
  },
  {
   "cell_type": "markdown",
   "metadata": {},
   "source": [
    "## Correlation"
   ]
  },
  {
   "cell_type": "code",
   "execution_count": 202,
   "metadata": {},
   "outputs": [
    {
     "data": {
      "text/plain": [
       "total_bedrooms    0.979399\n",
       "population        0.906841\n",
       "dtype: float64"
      ]
     },
     "execution_count": 202,
     "metadata": {},
     "output_type": "execute_result"
    }
   ],
   "source": [
    "df_train[['total_bedrooms','population']].corrwith(df_train.households).abs()"
   ]
  },
  {
   "cell_type": "code",
   "execution_count": 203,
   "metadata": {},
   "outputs": [
    {
     "data": {
      "text/plain": [
       "total_bedrooms              0.931546\n",
       "population_per_household    0.029452\n",
       "dtype: float64"
      ]
     },
     "execution_count": 203,
     "metadata": {},
     "output_type": "execute_result"
    }
   ],
   "source": [
    "df_train[['total_bedrooms','population_per_household']].corrwith(df_train.total_rooms).abs()"
   ]
  },
  {
   "cell_type": "markdown",
   "metadata": {},
   "source": [
    "# Question 3"
   ]
  },
  {
   "cell_type": "markdown",
   "metadata": {},
   "source": [
    "## Mutual info score"
   ]
  },
  {
   "cell_type": "code",
   "execution_count": 204,
   "metadata": {},
   "outputs": [
    {
     "data": {
      "text/plain": [
       "longitude                   float64\n",
       "latitude                    float64\n",
       "housing_median_age          float64\n",
       "total_rooms                 float64\n",
       "total_bedrooms              float64\n",
       "population                  float64\n",
       "households                  float64\n",
       "median_income               float64\n",
       "median_house_value          float64\n",
       "ocean_proximity              object\n",
       "rooms_per_household         float64\n",
       "bedrooms_per_room           float64\n",
       "population_per_household    float64\n",
       "above_average                 int32\n",
       "dtype: object"
      ]
     },
     "execution_count": 204,
     "metadata": {},
     "output_type": "execute_result"
    }
   ],
   "source": [
    "df_full_train.dtypes"
   ]
  },
  {
   "cell_type": "code",
   "execution_count": 205,
   "metadata": {},
   "outputs": [
    {
     "data": {
      "text/plain": [
       "0.1019224615118327"
      ]
     },
     "execution_count": 205,
     "metadata": {},
     "output_type": "execute_result"
    }
   ],
   "source": [
    "mutual_info_score(df_full_train.above_average,df_full_train.ocean_proximity)"
   ]
  },
  {
   "cell_type": "markdown",
   "metadata": {},
   "source": [
    "# Question 4 - LR"
   ]
  },
  {
   "cell_type": "markdown",
   "metadata": {},
   "source": [
    "## One-hot encoding."
   ]
  },
  {
   "cell_type": "code",
   "execution_count": 206,
   "metadata": {},
   "outputs": [],
   "source": [
    "numerical = ['longitude', 'latitude', 'housing_median_age', 'total_rooms',\n",
    "       'total_bedrooms', 'population', 'households', 'median_income',\n",
    "       'rooms_per_household',\n",
    "       'bedrooms_per_room', 'population_per_household']"
   ]
  },
  {
   "cell_type": "code",
   "execution_count": 207,
   "metadata": {},
   "outputs": [],
   "source": [
    "categorical = ['ocean_proximity']"
   ]
  },
  {
   "cell_type": "code",
   "execution_count": 208,
   "metadata": {},
   "outputs": [
    {
     "data": {
      "text/plain": [
       "DictVectorizer(sparse=False)"
      ]
     },
     "execution_count": 208,
     "metadata": {},
     "output_type": "execute_result"
    }
   ],
   "source": [
    "# Use Scikit-Learn to encode categorical features\n",
    "\n",
    "dv = DictVectorizer(sparse=False)\n",
    "dv"
   ]
  },
  {
   "cell_type": "code",
   "execution_count": 209,
   "metadata": {},
   "outputs": [
    {
     "data": {
      "text/plain": [
       "array([ 9.85111663e-01,  8.06000000e+02,  2.40000000e+01,  3.37400000e+01,\n",
       "       -1.18320000e+02,  1.01357000e+01,  0.00000000e+00,  0.00000000e+00,\n",
       "        0.00000000e+00,  0.00000000e+00,  1.00000000e+00,  2.24800000e+03,\n",
       "        2.78908189e+00,  7.56451613e+00,  7.94000000e+02,  6.09700000e+03])"
      ]
     },
     "execution_count": 209,
     "metadata": {},
     "output_type": "execute_result"
    }
   ],
   "source": [
    "train_dict = df_train[categorical + numerical].to_dict(orient = 'records')\n",
    "X_train = dv.fit_transform(train_dict)\n",
    "X_train[1]"
   ]
  },
  {
   "cell_type": "code",
   "execution_count": 210,
   "metadata": {},
   "outputs": [
    {
     "data": {
      "text/plain": [
       "array([[1.04395604e+00, 1.82000000e+02, 3.50000000e+01, ...,\n",
       "        6.54395604e+00, 1.90000000e+02, 1.19100000e+03],\n",
       "       [9.87179487e-01, 3.90000000e+02, 2.30000000e+01, ...,\n",
       "        4.28717949e+00, 3.85000000e+02, 1.67200000e+03],\n",
       "       [1.05663940e+00, 1.58900000e+03, 1.40000000e+01, ...,\n",
       "        3.91692889e+00, 1.67900000e+03, 6.22400000e+03],\n",
       "       ...,\n",
       "       [9.03780069e-01, 5.82000000e+02, 3.10000000e+01, ...,\n",
       "        5.29209622e+00, 5.26000000e+02, 3.08000000e+03],\n",
       "       [1.05537975e+00, 6.32000000e+02, 3.40000000e+01, ...,\n",
       "        5.87341772e+00, 6.67000000e+02, 3.71200000e+03],\n",
       "       [9.72602740e-01, 2.92000000e+02, 3.20000000e+01, ...,\n",
       "        5.40410959e+00, 2.84000000e+02, 1.57800000e+03]])"
      ]
     },
     "execution_count": 210,
     "metadata": {},
     "output_type": "execute_result"
    }
   ],
   "source": [
    "val_dict = df_val[categorical + numerical].to_dict(orient = 'records')\n",
    "X_val = dv.fit_transform(val_dict)\n",
    "X_val"
   ]
  },
  {
   "cell_type": "markdown",
   "metadata": {},
   "source": [
    "## Training logistic regression with Scikit-Learn\n",
    "\n",
    "* Train a model with Scikit-Learn\n",
    "* Apply it to the validation dataset\n",
    "* Calculate the accuracy"
   ]
  },
  {
   "cell_type": "code",
   "execution_count": 211,
   "metadata": {},
   "outputs": [
    {
     "data": {
      "text/plain": [
       "array([1, 1, 0, ..., 1, 0, 0])"
      ]
     },
     "execution_count": 211,
     "metadata": {},
     "output_type": "execute_result"
    }
   ],
   "source": [
    "y_train"
   ]
  },
  {
   "cell_type": "code",
   "execution_count": 212,
   "metadata": {},
   "outputs": [
    {
     "data": {
      "text/plain": [
       "LogisticRegression(max_iter=1000, random_state=42, solver='liblinear')"
      ]
     },
     "execution_count": 212,
     "metadata": {},
     "output_type": "execute_result"
    }
   ],
   "source": [
    "model = LogisticRegression(solver=\"liblinear\", C=1.0, max_iter=1000, random_state=42)\n",
    "model.fit(X_train,y_train)"
   ]
  },
  {
   "cell_type": "code",
   "execution_count": 213,
   "metadata": {},
   "outputs": [
    {
     "data": {
      "text/plain": [
       "-0.14808582797638123"
      ]
     },
     "execution_count": 213,
     "metadata": {},
     "output_type": "execute_result"
    }
   ],
   "source": [
    "model.intercept_[0]"
   ]
  },
  {
   "cell_type": "code",
   "execution_count": 214,
   "metadata": {},
   "outputs": [
    {
     "data": {
      "text/plain": [
       "array([ 5.980e-01,  4.000e-03,  3.600e-02,  1.330e-01,  9.400e-02,\n",
       "        1.257e+00,  4.700e-01, -1.748e+00,  4.100e-02,  1.930e-01,\n",
       "        8.950e-01, -2.000e-03,  1.100e-02, -1.120e-01,  1.000e-03,\n",
       "       -0.000e+00])"
      ]
     },
     "execution_count": 214,
     "metadata": {},
     "output_type": "execute_result"
    }
   ],
   "source": [
    "model.coef_[0].round(3)"
   ]
  },
  {
   "cell_type": "markdown",
   "metadata": {},
   "source": [
    "## Calc acc on val"
   ]
  },
  {
   "cell_type": "code",
   "execution_count": 215,
   "metadata": {},
   "outputs": [
    {
     "data": {
      "text/plain": [
       "array([0.07061483, 0.18721027, 0.95253211, ..., 0.96511377, 0.85345041,\n",
       "       0.4449008 ])"
      ]
     },
     "execution_count": 215,
     "metadata": {},
     "output_type": "execute_result"
    }
   ],
   "source": [
    "y_pred = model.predict_proba(X_val)[:, 1]\n",
    "y_pred"
   ]
  },
  {
   "cell_type": "code",
   "execution_count": 216,
   "metadata": {},
   "outputs": [],
   "source": [
    "churn_decision = (y_pred >= 0.5)"
   ]
  },
  {
   "cell_type": "code",
   "execution_count": 217,
   "metadata": {},
   "outputs": [
    {
     "data": {
      "text/plain": [
       "0.8374515503875969"
      ]
     },
     "execution_count": 217,
     "metadata": {},
     "output_type": "execute_result"
    }
   ],
   "source": [
    "original_acc = (y_val == churn_decision).mean()\n",
    "original_acc"
   ]
  },
  {
   "cell_type": "markdown",
   "metadata": {},
   "source": [
    "# Question 5"
   ]
  },
  {
   "cell_type": "code",
   "execution_count": 218,
   "metadata": {},
   "outputs": [],
   "source": [
    "#Let's find the least useful feature using the feature elimination technique."
   ]
  },
  {
   "cell_type": "markdown",
   "metadata": {},
   "source": [
    "## Eliminate total_rooms"
   ]
  },
  {
   "cell_type": "code",
   "execution_count": 219,
   "metadata": {},
   "outputs": [],
   "source": [
    "numerical = ['longitude', 'latitude', 'housing_median_age', 'median_income',\n",
    "       'rooms_per_household', 'bedrooms_per_room', 'population_per_household',\n",
    "       # 'total_rooms',\n",
    "       'total_bedrooms', \n",
    "       'population', \n",
    "       'households', \n",
    "       ]\n",
    "categorical = ['ocean_proximity']"
   ]
  },
  {
   "cell_type": "code",
   "execution_count": 220,
   "metadata": {},
   "outputs": [
    {
     "data": {
      "text/plain": [
       "-0.0007267441860464574"
      ]
     },
     "execution_count": 220,
     "metadata": {},
     "output_type": "execute_result"
    }
   ],
   "source": [
    "# Use Scikit-Learn to encode categorical features\n",
    "\n",
    "dv = DictVectorizer(sparse=False)\n",
    "\n",
    "train_dict = df_train[categorical + numerical].to_dict(orient = 'records')\n",
    "X_train = dv.fit_transform(train_dict)\n",
    "\n",
    "val_dict = df_val[categorical + numerical].to_dict(orient = 'records')\n",
    "X_val = dv.fit_transform(val_dict)\n",
    "\n",
    "model = LogisticRegression(solver=\"liblinear\", C=1.0, max_iter=1000, random_state=42)\n",
    "model.fit(X_train,y_train)\n",
    "\n",
    "y_pred = model.predict_proba(X_val)[:, 1]\n",
    "churn_decision = (y_pred >= 0.5)\n",
    "(y_val == churn_decision).mean() - original_acc"
   ]
  },
  {
   "cell_type": "markdown",
   "metadata": {},
   "source": [
    "## Eliminate total_bedrooms"
   ]
  },
  {
   "cell_type": "code",
   "execution_count": 221,
   "metadata": {},
   "outputs": [],
   "source": [
    "numerical = ['longitude', 'latitude', 'housing_median_age', 'median_income',\n",
    "       'rooms_per_household', 'bedrooms_per_room', 'population_per_household',\n",
    "       'total_rooms',\n",
    "       # 'total_bedrooms', \n",
    "       'population', \n",
    "       'households', \n",
    "       ]\n",
    "categorical = ['ocean_proximity']"
   ]
  },
  {
   "cell_type": "code",
   "execution_count": 222,
   "metadata": {},
   "outputs": [
    {
     "data": {
      "text/plain": [
       "-0.0009689922480620172"
      ]
     },
     "execution_count": 222,
     "metadata": {},
     "output_type": "execute_result"
    }
   ],
   "source": [
    "# Use Scikit-Learn to encode categorical features\n",
    "\n",
    "dv = DictVectorizer(sparse=False)\n",
    "\n",
    "train_dict = df_train[categorical + numerical].to_dict(orient = 'records')\n",
    "X_train = dv.fit_transform(train_dict)\n",
    "\n",
    "val_dict = df_val[categorical + numerical].to_dict(orient = 'records')\n",
    "X_val = dv.fit_transform(val_dict)\n",
    "\n",
    "model = LogisticRegression(solver=\"liblinear\", C=1.0, max_iter=1000, random_state=42)\n",
    "model.fit(X_train,y_train)\n",
    "\n",
    "y_pred = model.predict_proba(X_val)[:, 1]\n",
    "churn_decision = (y_pred >= 0.5)\n",
    "(y_val == churn_decision).mean() - original_acc"
   ]
  },
  {
   "cell_type": "markdown",
   "metadata": {},
   "source": [
    "## Eliminate population"
   ]
  },
  {
   "cell_type": "code",
   "execution_count": 223,
   "metadata": {},
   "outputs": [
    {
     "data": {
      "text/plain": [
       "-0.007994186046511587"
      ]
     },
     "execution_count": 223,
     "metadata": {},
     "output_type": "execute_result"
    }
   ],
   "source": [
    "\n",
    "numerical = ['longitude', 'latitude', 'housing_median_age', 'median_income',\n",
    "       'rooms_per_household', 'bedrooms_per_room', 'population_per_household',\n",
    "       'total_rooms',\n",
    "       'total_bedrooms', \n",
    "    #    'population', \n",
    "       'households', \n",
    "       ]\n",
    "categorical = ['ocean_proximity']\n",
    "# Use Scikit-Learn to encode categorical features\n",
    "\n",
    "dv = DictVectorizer(sparse=False)\n",
    "\n",
    "train_dict = df_train[categorical + numerical].to_dict(orient = 'records')\n",
    "X_train = dv.fit_transform(train_dict)\n",
    "\n",
    "val_dict = df_val[categorical + numerical].to_dict(orient = 'records')\n",
    "X_val = dv.fit_transform(val_dict)\n",
    "model = LogisticRegression(solver=\"liblinear\", C=1.0, max_iter=1000, random_state=42)\n",
    "model.fit(X_train,y_train)\n",
    "\n",
    "y_pred = model.predict_proba(X_val)[:, 1]\n",
    "churn_decision = (y_pred >= 0.5)\n",
    "(y_val == churn_decision).mean() - original_acc"
   ]
  },
  {
   "cell_type": "markdown",
   "metadata": {},
   "source": [
    "## Eliminate households"
   ]
  },
  {
   "cell_type": "code",
   "execution_count": 224,
   "metadata": {},
   "outputs": [],
   "source": [
    "numerical = ['longitude', 'latitude', 'housing_median_age', 'median_income',\n",
    "       'rooms_per_household', 'bedrooms_per_room', 'population_per_household',\n",
    "       'total_rooms',\n",
    "       'total_bedrooms', \n",
    "       'population', \n",
    "       # 'households', \n",
    "       ]\n",
    "categorical = ['ocean_proximity']"
   ]
  },
  {
   "cell_type": "code",
   "execution_count": 225,
   "metadata": {},
   "outputs": [
    {
     "data": {
      "text/plain": [
       "-0.0033914728682170603"
      ]
     },
     "execution_count": 225,
     "metadata": {},
     "output_type": "execute_result"
    }
   ],
   "source": [
    "# Use Scikit-Learn to encode categorical features\n",
    "\n",
    "dv = DictVectorizer(sparse=False)\n",
    "\n",
    "train_dict = df_train[categorical + numerical].to_dict(orient = 'records')\n",
    "X_train = dv.fit_transform(train_dict)\n",
    "\n",
    "val_dict = df_val[categorical + numerical].to_dict(orient = 'records')\n",
    "X_val = dv.fit_transform(val_dict)\n",
    "\n",
    "model = LogisticRegression(solver=\"liblinear\", C=1.0, max_iter=1000, random_state=42)\n",
    "model.fit(X_train,y_train)\n",
    "\n",
    "y_pred = model.predict_proba(X_val)[:, 1]\n",
    "churn_decision = (y_pred >= 0.5)\n",
    "(y_val == churn_decision).mean() - original_acc"
   ]
  },
  {
   "cell_type": "markdown",
   "metadata": {},
   "source": [
    "# Question 6\n",
    "\n",
    "alpha= [0, 0.01, 0.1, 1, 10]"
   ]
  },
  {
   "cell_type": "code",
   "execution_count": 267,
   "metadata": {},
   "outputs": [
    {
     "data": {
      "text/html": [
       "<div><div id=54bf4e96-54a7-47e3-9462-43bbfad31077 style=\"display:none; background-color:#9D6CFF; color:white; width:200px; height:30px; padding-left:5px; border-radius:4px; flex-direction:row; justify-content:space-around; align-items:center;\" onmouseover=\"this.style.backgroundColor='#BA9BF8'\" onmouseout=\"this.style.backgroundColor='#9D6CFF'\" onclick=\"window.commands?.execute('create-mitosheet-from-dataframe-output');\">See Full Dataframe in Mito</div> <script> if (window.commands.hasCommand('create-mitosheet-from-dataframe-output')) document.getElementById('54bf4e96-54a7-47e3-9462-43bbfad31077').style.display = 'flex' </script> <table border=\"1\" class=\"dataframe\">\n",
       "  <thead>\n",
       "    <tr style=\"text-align: right;\">\n",
       "      <th></th>\n",
       "      <th>longitude</th>\n",
       "      <th>latitude</th>\n",
       "      <th>housing_median_age</th>\n",
       "      <th>total_rooms</th>\n",
       "      <th>total_bedrooms</th>\n",
       "      <th>population</th>\n",
       "      <th>households</th>\n",
       "      <th>median_income</th>\n",
       "      <th>median_house_value</th>\n",
       "      <th>ocean_proximity</th>\n",
       "      <th>rooms_per_household</th>\n",
       "      <th>bedrooms_per_room</th>\n",
       "      <th>population_per_household</th>\n",
       "      <th>above_average</th>\n",
       "    </tr>\n",
       "  </thead>\n",
       "  <tbody>\n",
       "    <tr>\n",
       "      <th>20046</th>\n",
       "      <td>-119.01</td>\n",
       "      <td>36.06</td>\n",
       "      <td>25.0</td>\n",
       "      <td>1505.0</td>\n",
       "      <td>0.0</td>\n",
       "      <td>1392.0</td>\n",
       "      <td>359.0</td>\n",
       "      <td>1.6812</td>\n",
       "      <td>47700.0</td>\n",
       "      <td>inland</td>\n",
       "      <td>4.192201</td>\n",
       "      <td>0.000000</td>\n",
       "      <td>3.877437</td>\n",
       "      <td>0</td>\n",
       "    </tr>\n",
       "    <tr>\n",
       "      <th>3024</th>\n",
       "      <td>-119.46</td>\n",
       "      <td>35.14</td>\n",
       "      <td>30.0</td>\n",
       "      <td>2943.0</td>\n",
       "      <td>0.0</td>\n",
       "      <td>1565.0</td>\n",
       "      <td>584.0</td>\n",
       "      <td>2.5313</td>\n",
       "      <td>45800.0</td>\n",
       "      <td>inland</td>\n",
       "      <td>5.039384</td>\n",
       "      <td>0.000000</td>\n",
       "      <td>2.679795</td>\n",
       "      <td>0</td>\n",
       "    </tr>\n",
       "    <tr>\n",
       "      <th>15663</th>\n",
       "      <td>-122.44</td>\n",
       "      <td>37.80</td>\n",
       "      <td>52.0</td>\n",
       "      <td>3830.0</td>\n",
       "      <td>0.0</td>\n",
       "      <td>1310.0</td>\n",
       "      <td>963.0</td>\n",
       "      <td>3.4801</td>\n",
       "      <td>500001.0</td>\n",
       "      <td>near_bay</td>\n",
       "      <td>3.977155</td>\n",
       "      <td>0.000000</td>\n",
       "      <td>1.360332</td>\n",
       "      <td>1</td>\n",
       "    </tr>\n",
       "    <tr>\n",
       "      <th>20484</th>\n",
       "      <td>-118.72</td>\n",
       "      <td>34.28</td>\n",
       "      <td>17.0</td>\n",
       "      <td>3051.0</td>\n",
       "      <td>0.0</td>\n",
       "      <td>1705.0</td>\n",
       "      <td>495.0</td>\n",
       "      <td>5.7376</td>\n",
       "      <td>218600.0</td>\n",
       "      <td>&lt;1h_ocean</td>\n",
       "      <td>6.163636</td>\n",
       "      <td>0.000000</td>\n",
       "      <td>3.444444</td>\n",
       "      <td>1</td>\n",
       "    </tr>\n",
       "    <tr>\n",
       "      <th>9814</th>\n",
       "      <td>-121.93</td>\n",
       "      <td>36.62</td>\n",
       "      <td>34.0</td>\n",
       "      <td>2351.0</td>\n",
       "      <td>0.0</td>\n",
       "      <td>1063.0</td>\n",
       "      <td>428.0</td>\n",
       "      <td>3.7250</td>\n",
       "      <td>278000.0</td>\n",
       "      <td>near_ocean</td>\n",
       "      <td>5.492991</td>\n",
       "      <td>0.000000</td>\n",
       "      <td>2.483645</td>\n",
       "      <td>1</td>\n",
       "    </tr>\n",
       "    <tr>\n",
       "      <th>...</th>\n",
       "      <td>...</td>\n",
       "      <td>...</td>\n",
       "      <td>...</td>\n",
       "      <td>...</td>\n",
       "      <td>...</td>\n",
       "      <td>...</td>\n",
       "      <td>...</td>\n",
       "      <td>...</td>\n",
       "      <td>...</td>\n",
       "      <td>...</td>\n",
       "      <td>...</td>\n",
       "      <td>...</td>\n",
       "      <td>...</td>\n",
       "      <td>...</td>\n",
       "    </tr>\n",
       "    <tr>\n",
       "      <th>11284</th>\n",
       "      <td>-117.96</td>\n",
       "      <td>33.78</td>\n",
       "      <td>35.0</td>\n",
       "      <td>1330.0</td>\n",
       "      <td>201.0</td>\n",
       "      <td>658.0</td>\n",
       "      <td>217.0</td>\n",
       "      <td>6.3700</td>\n",
       "      <td>229200.0</td>\n",
       "      <td>&lt;1h_ocean</td>\n",
       "      <td>6.129032</td>\n",
       "      <td>0.926267</td>\n",
       "      <td>3.032258</td>\n",
       "      <td>1</td>\n",
       "    </tr>\n",
       "    <tr>\n",
       "      <th>11964</th>\n",
       "      <td>-117.43</td>\n",
       "      <td>34.02</td>\n",
       "      <td>33.0</td>\n",
       "      <td>3084.0</td>\n",
       "      <td>570.0</td>\n",
       "      <td>1753.0</td>\n",
       "      <td>449.0</td>\n",
       "      <td>3.0500</td>\n",
       "      <td>97800.0</td>\n",
       "      <td>inland</td>\n",
       "      <td>6.868597</td>\n",
       "      <td>1.269488</td>\n",
       "      <td>3.904232</td>\n",
       "      <td>0</td>\n",
       "    </tr>\n",
       "    <tr>\n",
       "      <th>5390</th>\n",
       "      <td>-118.38</td>\n",
       "      <td>34.03</td>\n",
       "      <td>36.0</td>\n",
       "      <td>2101.0</td>\n",
       "      <td>569.0</td>\n",
       "      <td>1756.0</td>\n",
       "      <td>527.0</td>\n",
       "      <td>2.9344</td>\n",
       "      <td>222100.0</td>\n",
       "      <td>&lt;1h_ocean</td>\n",
       "      <td>3.986717</td>\n",
       "      <td>1.079696</td>\n",
       "      <td>3.332068</td>\n",
       "      <td>1</td>\n",
       "    </tr>\n",
       "    <tr>\n",
       "      <th>860</th>\n",
       "      <td>-121.96</td>\n",
       "      <td>37.58</td>\n",
       "      <td>15.0</td>\n",
       "      <td>3575.0</td>\n",
       "      <td>597.0</td>\n",
       "      <td>1777.0</td>\n",
       "      <td>559.0</td>\n",
       "      <td>5.7192</td>\n",
       "      <td>283500.0</td>\n",
       "      <td>&lt;1h_ocean</td>\n",
       "      <td>6.395349</td>\n",
       "      <td>1.067979</td>\n",
       "      <td>3.178891</td>\n",
       "      <td>1</td>\n",
       "    </tr>\n",
       "    <tr>\n",
       "      <th>15795</th>\n",
       "      <td>-122.42</td>\n",
       "      <td>37.77</td>\n",
       "      <td>52.0</td>\n",
       "      <td>4226.0</td>\n",
       "      <td>1315.0</td>\n",
       "      <td>2619.0</td>\n",
       "      <td>1242.0</td>\n",
       "      <td>2.5755</td>\n",
       "      <td>325000.0</td>\n",
       "      <td>near_bay</td>\n",
       "      <td>3.402576</td>\n",
       "      <td>1.058776</td>\n",
       "      <td>2.108696</td>\n",
       "      <td>1</td>\n",
       "    </tr>\n",
       "  </tbody>\n",
       "</table></div>"
      ],
      "text/plain": [
       "       longitude  latitude  housing_median_age  total_rooms  total_bedrooms  \\\n",
       "20046    -119.01     36.06                25.0       1505.0             0.0   \n",
       "3024     -119.46     35.14                30.0       2943.0             0.0   \n",
       "15663    -122.44     37.80                52.0       3830.0             0.0   \n",
       "20484    -118.72     34.28                17.0       3051.0             0.0   \n",
       "9814     -121.93     36.62                34.0       2351.0             0.0   \n",
       "...          ...       ...                 ...          ...             ...   \n",
       "11284    -117.96     33.78                35.0       1330.0           201.0   \n",
       "11964    -117.43     34.02                33.0       3084.0           570.0   \n",
       "5390     -118.38     34.03                36.0       2101.0           569.0   \n",
       "860      -121.96     37.58                15.0       3575.0           597.0   \n",
       "15795    -122.42     37.77                52.0       4226.0          1315.0   \n",
       "\n",
       "       population  households  median_income  median_house_value  \\\n",
       "20046      1392.0       359.0         1.6812             47700.0   \n",
       "3024       1565.0       584.0         2.5313             45800.0   \n",
       "15663      1310.0       963.0         3.4801            500001.0   \n",
       "20484      1705.0       495.0         5.7376            218600.0   \n",
       "9814       1063.0       428.0         3.7250            278000.0   \n",
       "...           ...         ...            ...                 ...   \n",
       "11284       658.0       217.0         6.3700            229200.0   \n",
       "11964      1753.0       449.0         3.0500             97800.0   \n",
       "5390       1756.0       527.0         2.9344            222100.0   \n",
       "860        1777.0       559.0         5.7192            283500.0   \n",
       "15795      2619.0      1242.0         2.5755            325000.0   \n",
       "\n",
       "      ocean_proximity  rooms_per_household  bedrooms_per_room  \\\n",
       "20046          inland             4.192201           0.000000   \n",
       "3024           inland             5.039384           0.000000   \n",
       "15663        near_bay             3.977155           0.000000   \n",
       "20484       <1h_ocean             6.163636           0.000000   \n",
       "9814       near_ocean             5.492991           0.000000   \n",
       "...               ...                  ...                ...   \n",
       "11284       <1h_ocean             6.129032           0.926267   \n",
       "11964          inland             6.868597           1.269488   \n",
       "5390        <1h_ocean             3.986717           1.079696   \n",
       "860         <1h_ocean             6.395349           1.067979   \n",
       "15795        near_bay             3.402576           1.058776   \n",
       "\n",
       "       population_per_household  above_average  \n",
       "20046                  3.877437              0  \n",
       "3024                   2.679795              0  \n",
       "15663                  1.360332              1  \n",
       "20484                  3.444444              1  \n",
       "9814                   2.483645              1  \n",
       "...                         ...            ...  \n",
       "11284                  3.032258              1  \n",
       "11964                  3.904232              0  \n",
       "5390                   3.332068              1  \n",
       "860                    3.178891              1  \n",
       "15795                  2.108696              1  \n",
       "\n",
       "[20640 rows x 14 columns]"
      ]
     },
     "execution_count": 267,
     "metadata": {},
     "output_type": "execute_result"
    }
   ],
   "source": [
    "np.random.seed(42)\n",
    "\n",
    "n = len(df)\n",
    "\n",
    "# Split your data in train/val/test sets, with 60%/20%/20% distribution.\n",
    "n_val = int(0.2*n)\n",
    "n_test = int(0.2*n)\n",
    "n_train = n - (n_val + n_test)\n",
    "\n",
    "idx = np.arange(n)\n",
    "\n",
    "# Shuffle the initial dataset, use seed 42.\n",
    "np.random.shuffle(idx)\n",
    "\n",
    "df_shuffled = df.iloc[idx]\n",
    "df_shuffled"
   ]
  },
  {
   "cell_type": "code",
   "execution_count": 268,
   "metadata": {},
   "outputs": [],
   "source": [
    "df_train = df_shuffled.iloc[:n_train].copy()\n",
    "df_val = df_shuffled.iloc[n_train:n_train+n_val].copy()\n",
    "df_test = df_shuffled.iloc[n_train+n_val:].copy()\n",
    "\n",
    "# Apply the log transformation to the median_house_value variable using the np.log1p() function.\n",
    "y_train = np.log1p(df_train.median_house_value.values)\n",
    "y_val = np.log1p(df_val.median_house_value.values)\n",
    "y_test = np.log1p(df_test.median_house_value.values)\n",
    "\n",
    "# Make sure that the target value ('median_house_value') is not in your dataframe.\n",
    "del df_train['median_house_value']\n",
    "del df_val['median_house_value']\n",
    "del df_test['median_house_value']\n",
    "del df_train['above_average']\n",
    "del df_val['above_average']\n",
    "del df_test['above_average']"
   ]
  },
  {
   "cell_type": "code",
   "execution_count": 273,
   "metadata": {},
   "outputs": [
    {
     "data": {
      "text/html": [
       "<div><div id=e9df146e-e088-4211-be82-68f95c63f835 style=\"display:none; background-color:#9D6CFF; color:white; width:200px; height:30px; padding-left:5px; border-radius:4px; flex-direction:row; justify-content:space-around; align-items:center;\" onmouseover=\"this.style.backgroundColor='#BA9BF8'\" onmouseout=\"this.style.backgroundColor='#9D6CFF'\" onclick=\"window.commands?.execute('create-mitosheet-from-dataframe-output');\">See Full Dataframe in Mito</div> <script> if (window.commands.hasCommand('create-mitosheet-from-dataframe-output')) document.getElementById('e9df146e-e088-4211-be82-68f95c63f835').style.display = 'flex' </script> <table border=\"1\" class=\"dataframe\">\n",
       "  <thead>\n",
       "    <tr style=\"text-align: right;\">\n",
       "      <th></th>\n",
       "      <th>longitude</th>\n",
       "      <th>latitude</th>\n",
       "      <th>housing_median_age</th>\n",
       "      <th>total_rooms</th>\n",
       "      <th>total_bedrooms</th>\n",
       "      <th>population</th>\n",
       "      <th>households</th>\n",
       "      <th>median_income</th>\n",
       "      <th>ocean_proximity</th>\n",
       "      <th>rooms_per_household</th>\n",
       "      <th>bedrooms_per_room</th>\n",
       "      <th>population_per_household</th>\n",
       "    </tr>\n",
       "  </thead>\n",
       "  <tbody>\n",
       "    <tr>\n",
       "      <th>20046</th>\n",
       "      <td>-119.01</td>\n",
       "      <td>36.06</td>\n",
       "      <td>25.0</td>\n",
       "      <td>1505.0</td>\n",
       "      <td>0.0</td>\n",
       "      <td>1392.0</td>\n",
       "      <td>359.0</td>\n",
       "      <td>1.6812</td>\n",
       "      <td>inland</td>\n",
       "      <td>4.192201</td>\n",
       "      <td>0.000000</td>\n",
       "      <td>3.877437</td>\n",
       "    </tr>\n",
       "    <tr>\n",
       "      <th>3024</th>\n",
       "      <td>-119.46</td>\n",
       "      <td>35.14</td>\n",
       "      <td>30.0</td>\n",
       "      <td>2943.0</td>\n",
       "      <td>0.0</td>\n",
       "      <td>1565.0</td>\n",
       "      <td>584.0</td>\n",
       "      <td>2.5313</td>\n",
       "      <td>inland</td>\n",
       "      <td>5.039384</td>\n",
       "      <td>0.000000</td>\n",
       "      <td>2.679795</td>\n",
       "    </tr>\n",
       "    <tr>\n",
       "      <th>15663</th>\n",
       "      <td>-122.44</td>\n",
       "      <td>37.80</td>\n",
       "      <td>52.0</td>\n",
       "      <td>3830.0</td>\n",
       "      <td>0.0</td>\n",
       "      <td>1310.0</td>\n",
       "      <td>963.0</td>\n",
       "      <td>3.4801</td>\n",
       "      <td>near_bay</td>\n",
       "      <td>3.977155</td>\n",
       "      <td>0.000000</td>\n",
       "      <td>1.360332</td>\n",
       "    </tr>\n",
       "    <tr>\n",
       "      <th>20484</th>\n",
       "      <td>-118.72</td>\n",
       "      <td>34.28</td>\n",
       "      <td>17.0</td>\n",
       "      <td>3051.0</td>\n",
       "      <td>0.0</td>\n",
       "      <td>1705.0</td>\n",
       "      <td>495.0</td>\n",
       "      <td>5.7376</td>\n",
       "      <td>&lt;1h_ocean</td>\n",
       "      <td>6.163636</td>\n",
       "      <td>0.000000</td>\n",
       "      <td>3.444444</td>\n",
       "    </tr>\n",
       "    <tr>\n",
       "      <th>9814</th>\n",
       "      <td>-121.93</td>\n",
       "      <td>36.62</td>\n",
       "      <td>34.0</td>\n",
       "      <td>2351.0</td>\n",
       "      <td>0.0</td>\n",
       "      <td>1063.0</td>\n",
       "      <td>428.0</td>\n",
       "      <td>3.7250</td>\n",
       "      <td>near_ocean</td>\n",
       "      <td>5.492991</td>\n",
       "      <td>0.000000</td>\n",
       "      <td>2.483645</td>\n",
       "    </tr>\n",
       "    <tr>\n",
       "      <th>...</th>\n",
       "      <td>...</td>\n",
       "      <td>...</td>\n",
       "      <td>...</td>\n",
       "      <td>...</td>\n",
       "      <td>...</td>\n",
       "      <td>...</td>\n",
       "      <td>...</td>\n",
       "      <td>...</td>\n",
       "      <td>...</td>\n",
       "      <td>...</td>\n",
       "      <td>...</td>\n",
       "      <td>...</td>\n",
       "    </tr>\n",
       "    <tr>\n",
       "      <th>10292</th>\n",
       "      <td>-117.81</td>\n",
       "      <td>33.88</td>\n",
       "      <td>19.0</td>\n",
       "      <td>2265.0</td>\n",
       "      <td>283.0</td>\n",
       "      <td>904.0</td>\n",
       "      <td>279.0</td>\n",
       "      <td>9.2327</td>\n",
       "      <td>&lt;1h_ocean</td>\n",
       "      <td>8.118280</td>\n",
       "      <td>1.014337</td>\n",
       "      <td>3.240143</td>\n",
       "    </tr>\n",
       "    <tr>\n",
       "      <th>16722</th>\n",
       "      <td>-120.68</td>\n",
       "      <td>35.48</td>\n",
       "      <td>15.0</td>\n",
       "      <td>2608.0</td>\n",
       "      <td>525.0</td>\n",
       "      <td>1351.0</td>\n",
       "      <td>502.0</td>\n",
       "      <td>2.7798</td>\n",
       "      <td>&lt;1h_ocean</td>\n",
       "      <td>5.195219</td>\n",
       "      <td>1.045817</td>\n",
       "      <td>2.691235</td>\n",
       "    </tr>\n",
       "    <tr>\n",
       "      <th>11730</th>\n",
       "      <td>-120.91</td>\n",
       "      <td>38.98</td>\n",
       "      <td>13.0</td>\n",
       "      <td>7689.0</td>\n",
       "      <td>1415.0</td>\n",
       "      <td>3264.0</td>\n",
       "      <td>1198.0</td>\n",
       "      <td>3.6530</td>\n",
       "      <td>inland</td>\n",
       "      <td>6.418197</td>\n",
       "      <td>1.181135</td>\n",
       "      <td>2.724541</td>\n",
       "    </tr>\n",
       "    <tr>\n",
       "      <th>5993</th>\n",
       "      <td>-117.72</td>\n",
       "      <td>34.09</td>\n",
       "      <td>36.0</td>\n",
       "      <td>1473.0</td>\n",
       "      <td>328.0</td>\n",
       "      <td>785.0</td>\n",
       "      <td>299.0</td>\n",
       "      <td>3.2566</td>\n",
       "      <td>inland</td>\n",
       "      <td>4.926421</td>\n",
       "      <td>1.096990</td>\n",
       "      <td>2.625418</td>\n",
       "    </tr>\n",
       "    <tr>\n",
       "      <th>15993</th>\n",
       "      <td>-122.47</td>\n",
       "      <td>37.76</td>\n",
       "      <td>34.0</td>\n",
       "      <td>2807.0</td>\n",
       "      <td>487.0</td>\n",
       "      <td>1152.0</td>\n",
       "      <td>445.0</td>\n",
       "      <td>5.1893</td>\n",
       "      <td>near_bay</td>\n",
       "      <td>6.307865</td>\n",
       "      <td>1.094382</td>\n",
       "      <td>2.588764</td>\n",
       "    </tr>\n",
       "  </tbody>\n",
       "</table></div>"
      ],
      "text/plain": [
       "       longitude  latitude  housing_median_age  total_rooms  total_bedrooms  \\\n",
       "20046    -119.01     36.06                25.0       1505.0             0.0   \n",
       "3024     -119.46     35.14                30.0       2943.0             0.0   \n",
       "15663    -122.44     37.80                52.0       3830.0             0.0   \n",
       "20484    -118.72     34.28                17.0       3051.0             0.0   \n",
       "9814     -121.93     36.62                34.0       2351.0             0.0   \n",
       "...          ...       ...                 ...          ...             ...   \n",
       "10292    -117.81     33.88                19.0       2265.0           283.0   \n",
       "16722    -120.68     35.48                15.0       2608.0           525.0   \n",
       "11730    -120.91     38.98                13.0       7689.0          1415.0   \n",
       "5993     -117.72     34.09                36.0       1473.0           328.0   \n",
       "15993    -122.47     37.76                34.0       2807.0           487.0   \n",
       "\n",
       "       population  households  median_income ocean_proximity  \\\n",
       "20046      1392.0       359.0         1.6812          inland   \n",
       "3024       1565.0       584.0         2.5313          inland   \n",
       "15663      1310.0       963.0         3.4801        near_bay   \n",
       "20484      1705.0       495.0         5.7376       <1h_ocean   \n",
       "9814       1063.0       428.0         3.7250      near_ocean   \n",
       "...           ...         ...            ...             ...   \n",
       "10292       904.0       279.0         9.2327       <1h_ocean   \n",
       "16722      1351.0       502.0         2.7798       <1h_ocean   \n",
       "11730      3264.0      1198.0         3.6530          inland   \n",
       "5993        785.0       299.0         3.2566          inland   \n",
       "15993      1152.0       445.0         5.1893        near_bay   \n",
       "\n",
       "       rooms_per_household  bedrooms_per_room  population_per_household  \n",
       "20046             4.192201           0.000000                  3.877437  \n",
       "3024              5.039384           0.000000                  2.679795  \n",
       "15663             3.977155           0.000000                  1.360332  \n",
       "20484             6.163636           0.000000                  3.444444  \n",
       "9814              5.492991           0.000000                  2.483645  \n",
       "...                    ...                ...                       ...  \n",
       "10292             8.118280           1.014337                  3.240143  \n",
       "16722             5.195219           1.045817                  2.691235  \n",
       "11730             6.418197           1.181135                  2.724541  \n",
       "5993              4.926421           1.096990                  2.625418  \n",
       "15993             6.307865           1.094382                  2.588764  \n",
       "\n",
       "[12384 rows x 12 columns]"
      ]
     },
     "execution_count": 273,
     "metadata": {},
     "output_type": "execute_result"
    }
   ],
   "source": [
    "df_train"
   ]
  },
  {
   "cell_type": "code",
   "execution_count": 269,
   "metadata": {},
   "outputs": [
    {
     "data": {
      "text/plain": [
       "array([10.77270764, 10.7320612 , 13.12236738, ..., 11.89683321,\n",
       "       11.93032573, 12.9487264 ])"
      ]
     },
     "execution_count": 269,
     "metadata": {},
     "output_type": "execute_result"
    }
   ],
   "source": [
    "y_train"
   ]
  },
  {
   "cell_type": "code",
   "execution_count": 270,
   "metadata": {},
   "outputs": [],
   "source": [
    "def rmse(y, y_pred):\n",
    "    se = (y - y_pred) ** 2\n",
    "    mse = se.mean()\n",
    "    return np.sqrt(mse)"
   ]
  },
  {
   "cell_type": "code",
   "execution_count": 271,
   "metadata": {},
   "outputs": [],
   "source": [
    "list_emp = []\n",
    "for r in [0, 0.01, 0.1, 1, 10]:\n",
    "\n",
    "    model = Ridge(alpha=r, solver=\"sag\", random_state=42)\n",
    "    model.fit(X_train, y_train)\n",
    "\n",
    "    y_pred = model.predict(X_val)\n",
    "    score = rmse(y_val, y_pred)\n",
    "    \n",
    "    list_emp.append([r, score])"
   ]
  },
  {
   "cell_type": "code",
   "execution_count": 272,
   "metadata": {},
   "outputs": [
    {
     "data": {
      "text/plain": [
       "[[0, 0.5736402705379842],\n",
       " [0.01, 0.5736402705381727],\n",
       " [0.1, 0.5736402705400104],\n",
       " [1, 0.5736402705581525],\n",
       " [10, 0.5736402707398084]]"
      ]
     },
     "execution_count": 272,
     "metadata": {},
     "output_type": "execute_result"
    }
   ],
   "source": [
    "list_emp"
   ]
  },
  {
   "cell_type": "code",
   "execution_count": null,
   "metadata": {},
   "outputs": [],
   "source": []
  }
 ],
 "metadata": {
  "kernelspec": {
   "display_name": "Python 3.8.8 ('base')",
   "language": "python",
   "name": "python3"
  },
  "language_info": {
   "codemirror_mode": {
    "name": "ipython",
    "version": 3
   },
   "file_extension": ".py",
   "mimetype": "text/x-python",
   "name": "python",
   "nbconvert_exporter": "python",
   "pygments_lexer": "ipython3",
   "version": "3.8.8"
  },
  "orig_nbformat": 4,
  "vscode": {
   "interpreter": {
    "hash": "13bd1cd9cdfef5cf3df373a196004877917379272598e7ae96574419690ba783"
   }
  }
 },
 "nbformat": 4,
 "nbformat_minor": 2
}
